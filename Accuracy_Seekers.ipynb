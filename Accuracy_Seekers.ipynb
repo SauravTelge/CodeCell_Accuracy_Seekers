{
  "nbformat": 4,
  "nbformat_minor": 0,
  "metadata": {
    "colab": {
      "name": "Accuracy_Seekers.ipynb",
      "provenance": []
    },
    "kernelspec": {
      "name": "python3",
      "display_name": "Python 3"
    },
    "language_info": {
      "name": "python"
    }
  },
  "cells": [
    {
      "cell_type": "code",
      "metadata": {
        "id": "lmy1m3GuLElL"
      },
      "source": [
        "import numpy as np\n",
        "import pandas as pd\n",
        "\n",
        "# data visualisation\n",
        "import matplotlib.pyplot as plt\n",
        "from matplotlib import style\n",
        "import seaborn as sns\n",
        "from sklearn import metrics\n",
        "\n",
        "# sets matplotlib to inline\n",
        "%matplotlib inline  \n"
      ],
      "execution_count": null,
      "outputs": []
    },
    {
      "cell_type": "code",
      "metadata": {
        "id": "FYYIMkJFRi6P"
      },
      "source": [
        "df = pd.read_csv(\"train.csv\")"
      ],
      "execution_count": null,
      "outputs": []
    },
    {
      "cell_type": "code",
      "metadata": {
        "id": "2EDsZUjWotdu"
      },
      "source": [
        "df1= pd.read_csv(\"test.csv\")"
      ],
      "execution_count": null,
      "outputs": []
    },
    {
      "cell_type": "markdown",
      "metadata": {
        "id": "cR5WDROcbipu"
      },
      "source": [
        "# **Data Preprocessing & Visualization**"
      ]
    },
    {
      "cell_type": "code",
      "metadata": {
        "id": "seIZZUy4Rm-W"
      },
      "source": [
        "df.head()"
      ],
      "execution_count": null,
      "outputs": []
    },
    {
      "cell_type": "code",
      "metadata": {
        "id": "_aGiGdyQRoAp"
      },
      "source": [
        "df.shape"
      ],
      "execution_count": null,
      "outputs": []
    },
    {
      "cell_type": "code",
      "metadata": {
        "id": "8L4uksMZRq1T"
      },
      "source": [
        "df.dtypes"
      ],
      "execution_count": null,
      "outputs": []
    },
    {
      "cell_type": "code",
      "metadata": {
        "id": "6lIYsLu1Rxlg"
      },
      "source": [
        "df.isnull().any()"
      ],
      "execution_count": null,
      "outputs": []
    },
    {
      "cell_type": "code",
      "metadata": {
        "id": "nU_be9i2AN9v"
      },
      "source": [
        "df.corr()"
      ],
      "execution_count": null,
      "outputs": []
    },
    {
      "cell_type": "code",
      "metadata": {
        "id": "J5cfaFlhSmYB"
      },
      "source": [
        "df=df.fillna(df.mean())"
      ],
      "execution_count": null,
      "outputs": []
    },
    {
      "cell_type": "code",
      "metadata": {
        "id": "GG_Z4n6UWuxC"
      },
      "source": [
        "df1=df1.fillna(df1.mean())"
      ],
      "execution_count": null,
      "outputs": []
    },
    {
      "cell_type": "code",
      "metadata": {
        "id": "XGLJ3TVrSpaf"
      },
      "source": [
        "df.isnull().values.any()"
      ],
      "execution_count": null,
      "outputs": []
    },
    {
      "cell_type": "code",
      "metadata": {
        "id": "Ci_yHWVwSqvH"
      },
      "source": [
        "df.isnull().sum().sum()"
      ],
      "execution_count": null,
      "outputs": []
    },
    {
      "cell_type": "code",
      "metadata": {
        "id": "Tkk1F9-hTPSU"
      },
      "source": [
        "df.corr()"
      ],
      "execution_count": null,
      "outputs": []
    },
    {
      "cell_type": "code",
      "metadata": {
        "id": "CNXFkyqbTe4N"
      },
      "source": [
        "df.drop(labels=['EmployeeCount','EmployeeNumber','StockOptionLevel','StandardHours','FormalWarnings','Behaviour'],axis=1,inplace=True)\n",
        "df.head()"
      ],
      "execution_count": null,
      "outputs": []
    },
    {
      "cell_type": "code",
      "metadata": {
        "id": "evWjfnHcW0Ta"
      },
      "source": [
        "df1.drop(labels=['EmployeeCount','EmployeeNumber','StockOptionLevel','StandardHours','FormalWarnings','Behaviour'],axis=1,inplace=True)\n",
        "df1.head()"
      ],
      "execution_count": null,
      "outputs": []
    },
    {
      "cell_type": "code",
      "metadata": {
        "id": "2XBZGDjG7kLH"
      },
      "source": [
        "correlations = df.corr()\n",
        "f, ax = plt.subplots(figsize = (25,25))\n",
        "sns.heatmap(correlations, annot=True);"
      ],
      "execution_count": null,
      "outputs": []
    },
    {
      "cell_type": "code",
      "metadata": {
        "id": "4N7Cidt9UW8D"
      },
      "source": [
        "df.cov()"
      ],
      "execution_count": null,
      "outputs": []
    },
    {
      "cell_type": "code",
      "metadata": {
        "id": "ogpSnTwe9ANO"
      },
      "source": [
        "plt.figure(figsize=[25,12])\n",
        "sns.countplot(x = 'Age', hue = 'Attrition', data=df);"
      ],
      "execution_count": null,
      "outputs": []
    },
    {
      "cell_type": "code",
      "metadata": {
        "id": "Vaf1fAVBU56s"
      },
      "source": [
        "cat_col = df.select_dtypes(exclude=np.number)\n",
        "cat_col"
      ],
      "execution_count": null,
      "outputs": []
    },
    {
      "cell_type": "code",
      "metadata": {
        "id": "FRNrVKsnW_2s"
      },
      "source": [
        "cat_col1 = df1.select_dtypes(exclude=np.number)\n",
        "cat_col1"
      ],
      "execution_count": null,
      "outputs": []
    },
    {
      "cell_type": "code",
      "metadata": {
        "id": "2d-c38UkVBA6"
      },
      "source": [
        "for i in cat_col:\n",
        "    print(df[i].value_counts())"
      ],
      "execution_count": null,
      "outputs": []
    },
    {
      "cell_type": "code",
      "metadata": {
        "id": "7cHc9hJIVIeh"
      },
      "source": [
        "numerical_col = df.select_dtypes(include=np.number)\n",
        "numerical_col"
      ],
      "execution_count": null,
      "outputs": []
    },
    {
      "cell_type": "code",
      "metadata": {
        "id": "4QlLUfaCXElq"
      },
      "source": [
        "numerical_col1 = df1.select_dtypes(include=np.number)\n",
        "numerical_col1"
      ],
      "execution_count": null,
      "outputs": []
    },
    {
      "cell_type": "code",
      "metadata": {
        "id": "iorhagC7VPxq"
      },
      "source": [
        "for i in numerical_col:\n",
        "    print(i)"
      ],
      "execution_count": null,
      "outputs": []
    },
    {
      "cell_type": "code",
      "metadata": {
        "id": "7Ixq3Rq3VXQM"
      },
      "source": [
        "df.columns.shape"
      ],
      "execution_count": null,
      "outputs": []
    },
    {
      "cell_type": "code",
      "metadata": {
        "id": "MhlW0rb2VbJd"
      },
      "source": [
        "one_hot_categorical_variables = pd.get_dummies(cat_col)"
      ],
      "execution_count": null,
      "outputs": []
    },
    {
      "cell_type": "code",
      "metadata": {
        "id": "VtUhnohvXJUT"
      },
      "source": [
        "one_hot_categorical_variables1 = pd.get_dummies(cat_col1)"
      ],
      "execution_count": null,
      "outputs": []
    },
    {
      "cell_type": "code",
      "metadata": {
        "id": "RcNcJl5ZVd2n"
      },
      "source": [
        "one_hot_categorical_variables.head()"
      ],
      "execution_count": null,
      "outputs": []
    },
    {
      "cell_type": "code",
      "metadata": {
        "id": "bEGpid_OVf3s"
      },
      "source": [
        "df = pd.concat([numerical_col,one_hot_categorical_variables],sort=False,axis=1)\n",
        "df.head()"
      ],
      "execution_count": null,
      "outputs": []
    },
    {
      "cell_type": "code",
      "metadata": {
        "id": "peDL35YYXN1r"
      },
      "source": [
        "df1 = pd.concat([numerical_col1,one_hot_categorical_variables1],sort=False,axis=1)\n",
        "df1.head()"
      ],
      "execution_count": null,
      "outputs": []
    },
    {
      "cell_type": "code",
      "metadata": {
        "id": "stUbIZIEXcgE"
      },
      "source": [
        "df1.shape"
      ],
      "execution_count": null,
      "outputs": []
    },
    {
      "cell_type": "code",
      "metadata": {
        "id": "5upa0jRe6HT_"
      },
      "source": [
        "import seaborn as sns\n",
        "sns.set_style(\"darkgrid\")\n",
        "df.hist(bins = 20, figsize=(20,20));"
      ],
      "execution_count": null,
      "outputs": []
    },
    {
      "cell_type": "code",
      "metadata": {
        "id": "Ujkbus10_ZtO"
      },
      "source": [
        "plt.boxplot([df['TotalWorkingYears'],df['Age']])"
      ],
      "execution_count": null,
      "outputs": []
    },
    {
      "cell_type": "code",
      "metadata": {
        "id": "PF5j4zwT7KNb"
      },
      "source": [
        "df['Attrition'].value_counts()"
      ],
      "execution_count": null,
      "outputs": []
    },
    {
      "cell_type": "code",
      "metadata": {
        "id": "rmJ8F7WoV-OC"
      },
      "source": [
        "x = df.drop(columns=['Attrition','YearsAtCompany'])\n",
        "y =df[\"Attrition\"]"
      ],
      "execution_count": null,
      "outputs": []
    },
    {
      "cell_type": "code",
      "metadata": {
        "id": "CUMEwUbFoZtT"
      },
      "source": [
        "from sklearn.preprocessing import StandardScaler\n",
        "sc = StandardScaler()"
      ],
      "execution_count": null,
      "outputs": []
    },
    {
      "cell_type": "code",
      "metadata": {
        "id": "WIPrXm3ioudP"
      },
      "source": [
        "from sklearn.model_selection import train_test_split\n",
        "x_train, x_test, y_train, y_test = train_test_split(x, y, test_size=0.2, random_state=12)\n",
        "X_train = sc.fit_transform(x_train)\n",
        "X_test = sc.transform(x_test)"
      ],
      "execution_count": null,
      "outputs": []
    },
    {
      "cell_type": "markdown",
      "metadata": {
        "id": "SSVEV6nDAh4Y"
      },
      "source": [
        "# **Logistic Regression**"
      ]
    },
    {
      "cell_type": "code",
      "metadata": {
        "id": "FhbK6x2mVpYH"
      },
      "source": [
        "# importing LogisticRegression for Test and Train\n",
        "from sklearn.linear_model import LogisticRegression\n",
        "\n",
        "logreg = LogisticRegression()\n",
        "logreg.fit(X_train, y_train)\n"
      ],
      "execution_count": null,
      "outputs": []
    },
    {
      "cell_type": "code",
      "metadata": {
        "id": "tRidvy4YWL4q"
      },
      "source": [
        "train_Pred = logreg.predict(X_test)\n",
        "train_Pred"
      ],
      "execution_count": null,
      "outputs": []
    },
    {
      "cell_type": "code",
      "metadata": {
        "id": "r9rXafOap6UW"
      },
      "source": [
        "train_prob = logreg.predict_proba(X_test)\n",
        "train_prob"
      ],
      "execution_count": null,
      "outputs": []
    },
    {
      "cell_type": "code",
      "metadata": {
        "id": "n05aPZCupeHw"
      },
      "source": [
        "metrics.accuracy_score(y_test,train_Pred)"
      ],
      "execution_count": null,
      "outputs": []
    },
    {
      "cell_type": "code",
      "metadata": {
        "id": "U3mBS-kMVwTu"
      },
      "source": [
        "from sklearn.metrics import classification_report\n",
        "print(classification_report(y_test, train_Pred))"
      ],
      "execution_count": null,
      "outputs": []
    },
    {
      "cell_type": "code",
      "metadata": {
        "id": "VukRBm5tCJul"
      },
      "source": [
        "from sklearn.metrics import confusion_matrix\n",
        "cm = confusion_matrix(y_test, train_Pred)\n",
        "cm"
      ],
      "execution_count": null,
      "outputs": []
    },
    {
      "cell_type": "code",
      "metadata": {
        "id": "UAmnFRwdCgNZ"
      },
      "source": [
        "sns.heatmap(cm, annot=True);"
      ],
      "execution_count": null,
      "outputs": []
    },
    {
      "cell_type": "code",
      "metadata": {
        "id": "IYDnAXRhvta9"
      },
      "source": [
        "df1.head()"
      ],
      "execution_count": null,
      "outputs": []
    },
    {
      "cell_type": "code",
      "metadata": {
        "id": "KJ1mu7Mpqn_1"
      },
      "source": [
        "test_df1 = sc.transform(df1)"
      ],
      "execution_count": null,
      "outputs": []
    },
    {
      "cell_type": "code",
      "metadata": {
        "id": "c42H9fOZqeJo"
      },
      "source": [
        "test_prob1 = logreg.predict(test_df1)\n",
        "test_prob1"
      ],
      "execution_count": null,
      "outputs": []
    },
    {
      "cell_type": "code",
      "metadata": {
        "id": "F8MrPNcpq4XN"
      },
      "source": [
        "test_prob2 = logreg.predict_proba(test_df1)\n",
        "test_prob2"
      ],
      "execution_count": null,
      "outputs": []
    },
    {
      "cell_type": "markdown",
      "metadata": {
        "id": "Clx1s1_QA_HY"
      },
      "source": [
        "# **Random Forest Regressor**"
      ]
    },
    {
      "cell_type": "code",
      "metadata": {
        "id": "72FiEA_a01ay"
      },
      "source": [
        "y1 =df[\"YearsAtCompany\"]"
      ],
      "execution_count": null,
      "outputs": []
    },
    {
      "cell_type": "code",
      "metadata": {
        "id": "scJ_yjlB1B5Q"
      },
      "source": [
        "from sklearn.ensemble import RandomForestRegressor\n",
        "x1_train, x1_test, y1_train, y1_test = train_test_split(x, y1, test_size=0.2, random_state=12)\n",
        "X_train_std = sc.fit_transform(x1_train)\n",
        "X_test_std = sc.transform(x1_test)"
      ],
      "execution_count": null,
      "outputs": []
    },
    {
      "cell_type": "code",
      "metadata": {
        "id": "ivi1dm2Z1XrE"
      },
      "source": [
        "regressor = RandomForestRegressor(n_estimators=20, random_state=0)\n",
        "regressor.fit(X_train_std, y1_train)\n",
        "randomForest_pred = regressor.predict(X_test_std)"
      ],
      "execution_count": null,
      "outputs": []
    },
    {
      "cell_type": "code",
      "metadata": {
        "id": "gmxXSLemBr7Y"
      },
      "source": [
        "randomForest_acc = metrics.r2_score(y1_test, randomForest_pred)\n",
        "randomForest_acc"
      ],
      "execution_count": null,
      "outputs": []
    },
    {
      "cell_type": "code",
      "metadata": {
        "id": "8XYklEiWA1AI"
      },
      "source": [
        "randomForest_pred_df1 = regressor.predict(df1)\n",
        "randomForest_pred_df1"
      ],
      "execution_count": null,
      "outputs": []
    },
    {
      "cell_type": "markdown",
      "metadata": {
        "id": "PwUfLBgoC3PH"
      },
      "source": [
        "# **Convert to CSV**"
      ]
    },
    {
      "cell_type": "code",
      "metadata": {
        "id": "fvHW3DE7r_W1"
      },
      "source": [
        "dict1={\"Attrition\":test_prob2[:,1], \"YearsAtCompany\": randomForest_pred_df1}"
      ],
      "execution_count": null,
      "outputs": []
    },
    {
      "cell_type": "code",
      "metadata": {
        "id": "Ax2IzYG3s8JG"
      },
      "source": [
        "result=pd.DataFrame.from_dict(dict1)\n",
        "result"
      ],
      "execution_count": null,
      "outputs": []
    },
    {
      "cell_type": "code",
      "metadata": {
        "id": "myQjUm7ME0Ep"
      },
      "source": [
        "len(result)"
      ],
      "execution_count": null,
      "outputs": []
    },
    {
      "cell_type": "code",
      "metadata": {
        "id": "SbgYmKgytGpB"
      },
      "source": [
        "result.index = [x for x in range(1, len(result)+1)]\n",
        "result"
      ],
      "execution_count": null,
      "outputs": []
    },
    {
      "cell_type": "code",
      "metadata": {
        "id": "U16B-Gj0aObt"
      },
      "source": [
        "result=result.reset_index()"
      ],
      "execution_count": null,
      "outputs": []
    },
    {
      "cell_type": "code",
      "metadata": {
        "id": "XzlY2dyxajuF"
      },
      "source": [
        "result = result.rename(columns={'index': 'ID'})"
      ],
      "execution_count": null,
      "outputs": []
    },
    {
      "cell_type": "code",
      "metadata": {
        "id": "6H4pSpoVaVoC"
      },
      "source": [
        "result"
      ],
      "execution_count": null,
      "outputs": []
    },
    {
      "cell_type": "code",
      "metadata": {
        "id": "BwkYit8GtQbq"
      },
      "source": [
        "result.to_csv(\"output_final.csv\",index=False)"
      ],
      "execution_count": null,
      "outputs": []
    }
  ]
}